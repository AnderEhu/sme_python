{
 "cells": [
  {
   "cell_type": "markdown",
   "metadata": {},
   "source": [
    "# MODULE io.py"
   ]
  },
  {
   "cell_type": "markdown",
   "metadata": {},
   "source": [
    "## Imports"
   ]
  },
  {
   "cell_type": "code",
   "execution_count": 21,
   "metadata": {},
   "outputs": [],
   "source": [
    "from sme import io"
   ]
  },
  {
   "cell_type": "markdown",
   "metadata": {},
   "source": [
    "## Functions"
   ]
  },
  {
   "cell_type": "markdown",
   "metadata": {},
   "source": [
    "### read_df"
   ]
  },
  {
   "cell_type": "code",
   "execution_count": 22,
   "metadata": {},
   "outputs": [
    {
     "name": "stdout",
     "output_type": "stream",
     "text": [
      "Help on function read_df in module sme.io:\n",
      "\n",
      "read_df(file_path, sep=';', max_n_factor=3, header=False, row_names=None, col_names=None, n_rows=-1, transpose=False)\n",
      "    Description:\n",
      "        Read a csv file\n",
      "    \n",
      "    Parameters:\n",
      "        file.path (string):  Name of input file\n",
      "        sep (string):  Field separator. Default ;\n",
      "        max.n.factor (int):  maximum number of column characters to be a factor. \n",
      "        header (logical):  a logical value indicating whether the file contains the names of the variables as its first line. Default FALSE.\n",
      "        row.names (list of strings):  a vector of row names.\n",
      "        col.names (list of strings):  a vector of col names.\n",
      "        n.rows integer (integer): the maximum number of rows to read in. In case of Header = TRUE, it does not count for the number of read lines.\n",
      "        transpose (logical):  If TRUE, transpose the result. \n",
      "    \n",
      "    Returns:\n",
      "        A data frame containing a representation of the data in the file.\n",
      "\n"
     ]
    }
   ],
   "source": [
    "help(io.read_df)"
   ]
  },
  {
   "cell_type": "markdown",
   "metadata": {},
   "source": [
    "### write_df"
   ]
  },
  {
   "cell_type": "code",
   "execution_count": 23,
   "metadata": {},
   "outputs": [
    {
     "name": "stdout",
     "output_type": "stream",
     "text": [
      "Help on function write_df in module sme.io:\n",
      "\n",
      "write_df(df, file_path, sep=';', append=False, header=False)\n",
      "\n"
     ]
    }
   ],
   "source": [
    "help(io.write_df)"
   ]
  }
 ],
 "metadata": {
  "interpreter": {
   "hash": "916dbcbb3f70747c44a77c7bcd40155683ae19c65e1c03b4aa3499c5328201f1"
  },
  "kernelspec": {
   "display_name": "Python 3",
   "language": "python",
   "name": "python3"
  },
  "language_info": {
   "codemirror_mode": {
    "name": "ipython",
    "version": 3
   },
   "file_extension": ".py",
   "mimetype": "text/x-python",
   "name": "python",
   "nbconvert_exporter": "python",
   "pygments_lexer": "ipython3",
   "version": "3.8.10"
  }
 },
 "nbformat": 4,
 "nbformat_minor": 2
}
