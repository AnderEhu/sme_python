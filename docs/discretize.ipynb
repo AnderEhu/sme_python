{
 "cells": [
  {
   "cell_type": "markdown",
   "metadata": {},
   "source": [
    "# MODULE discretize.py"
   ]
  },
  {
   "cell_type": "markdown",
   "metadata": {},
   "source": [
    "## Imports"
   ]
  },
  {
   "cell_type": "code",
   "execution_count": 1,
   "metadata": {},
   "outputs": [],
   "source": [
    "from sme import discretize\n",
    "import pandas as pd\n",
    "import numpy as np"
   ]
  },
  {
   "cell_type": "markdown",
   "metadata": {},
   "source": [
    "## Functions"
   ]
  },
  {
   "cell_type": "markdown",
   "metadata": {},
   "source": [
    "### discretize"
   ]
  },
  {
   "cell_type": "markdown",
   "metadata": {},
   "source": [
    "Discretization is the process of transforming a continuous-valued variable into a discrete one by creating a set of contiguous intervals (or equivalently a set of cutpoints) that spans the range of the variable's values. \n",
    "\n",
    "There are diferent discretization methods, for example:\n",
    "\n",
    "- Equal interval width discretization: all bins have equal width.\n",
    "- Equal frequency discretization: all bins contain the same number of numerical values.\n",
    "- k-means discretization:  consists of applying the classical K-means clustering to one-dimensional continuous data, k is equal to the number of bins."
   ]
  },
  {
   "cell_type": "code",
   "execution_count": 2,
   "metadata": {},
   "outputs": [
    {
     "name": "stdout",
     "output_type": "stream",
     "text": [
      "Help on function discretize in module sme.discretize:\n",
      "\n",
      "discretize(df, num_bins, method='frequency')\n",
      "    Description:\n",
      "        Discretize \n",
      "    \n",
      "    Parameters:\n",
      "        x (continuous columns): array or dataframe\n",
      "        method (string): \"interval\" (equal interval width), \n",
      "                        \"frequency\" (equal frequency), \n",
      "                        \"cluster\" (k-means clustering).\n",
      "        num.bins (int): number of intervals.\n",
      "    Returns:\n",
      "        An Interval object that contains two attributes:\n",
      "            - discretized (list): result of x discretization\n",
      "            - discretized_with_interval (list): interval ranges\n",
      "            - interval (dict): interval ranges with id\n",
      "\n"
     ]
    }
   ],
   "source": [
    "help(discretize.discretize)"
   ]
  },
  {
   "cell_type": "markdown",
   "metadata": {},
   "source": [
    "\n",
    "## Tests"
   ]
  },
  {
   "cell_type": "code",
   "execution_count": 3,
   "metadata": {},
   "outputs": [],
   "source": [
    "v_example_1 = [11.5, 10.2, 1.2, 0.5, 5.3, 20.5, 8.4]\n",
    "v_example_2 = [0,4,12,16,16,18,24,26,28]\n",
    "df_example_3 = pd.DataFrame([[0,16,24], [4,16,26], [12, 18, 28]])\n",
    "matrix_example_4 = pd.array([[0,16,24], [4,16,26], [12, 18, 28]])"
   ]
  },
  {
   "cell_type": "markdown",
   "metadata": {},
   "source": [
    "### Test 1: Equal Interval Width Discretization"
   ]
  },
  {
   "cell_type": "code",
   "execution_count": 4,
   "metadata": {},
   "outputs": [
    {
     "name": "stdout",
     "output_type": "stream",
     "text": [
      "Intervalos\n",
      " {'(10.5, 15.5]': 'I3', '(5.5, 10.5]': 'I2', '(-Inf, 5.5]': 'I1', '(15.5, Inf]': 'I4'} \n",
      "Resultado con Intervalos\n",
      " [('(10.5, 15.5]', 'I3'), ('(5.5, 10.5]', 'I2'), ('(-Inf, 5.5]', 'I1'), ('(-Inf, 5.5]', 'I1'), ('(-Inf, 5.5]', 'I1'), ('(15.5, Inf]', 'I4'), ('(5.5, 10.5]', 'I2')] \n",
      "Resultado\n",
      " [['I3' 'I2' 'I1' 'I1' 'I1' 'I4' 'I2']]\n"
     ]
    }
   ],
   "source": [
    "ew_discretize_example1 = discretize.discretize(v_example_1, method=\"interval\", num_bins = 4)\n",
    "print(\"Intervalos\\n\",ew_discretize_example1.intervals, \"\\nResultado con Intervalos\\n\", ew_discretize_example1.discretized_with_interval, \"\\nResultado\\n\", ew_discretize_example1.discretized)\n"
   ]
  },
  {
   "cell_type": "code",
   "execution_count": 5,
   "metadata": {},
   "outputs": [
    {
     "name": "stdout",
     "output_type": "stream",
     "text": [
      "Intervalos\n",
      " {'(-Inf, 9.33]': 'I1', '(9.33, 18.67]': 'I2', '(18.67, Inf]': 'I3'} \n",
      "Resultado con Intervalos\n",
      " [('(-Inf, 9.33]', 'I1'), ('(-Inf, 9.33]', 'I1'), ('(9.33, 18.67]', 'I2'), ('(9.33, 18.67]', 'I2'), ('(9.33, 18.67]', 'I2'), ('(9.33, 18.67]', 'I2'), ('(18.67, Inf]', 'I3'), ('(18.67, Inf]', 'I3'), ('(18.67, Inf]', 'I3')] \n",
      "Resultado\n",
      " [['I1' 'I1' 'I2' 'I2' 'I2' 'I2' 'I3' 'I3' 'I3']]\n"
     ]
    }
   ],
   "source": [
    "ew_discretize_example2 = discretize.discretize(v_example_2, method=\"interval\", num_bins = 3)\n",
    "print(\"Intervalos\\n\",ew_discretize_example2.intervals, \"\\nResultado con Intervalos\\n\", ew_discretize_example2.discretized_with_interval, \"\\nResultado\\n\", ew_discretize_example2.discretized)\n"
   ]
  },
  {
   "cell_type": "code",
   "execution_count": 6,
   "metadata": {},
   "outputs": [
    {
     "name": "stdout",
     "output_type": "stream",
     "text": [
      "Intervalos\n",
      " {'(-Inf, 9.33]': 'I1', '(9.33, 18.67]': 'I2', '(18.67, Inf]': 'I3'} \n",
      "Resultado con Intervalos\n",
      " [('(-Inf, 9.33]', 'I1'), ('(9.33, 18.67]', 'I2'), ('(18.67, Inf]', 'I3'), ('(-Inf, 9.33]', 'I1'), ('(9.33, 18.67]', 'I2'), ('(18.67, Inf]', 'I3'), ('(9.33, 18.67]', 'I2'), ('(9.33, 18.67]', 'I2'), ('(18.67, Inf]', 'I3')] \n",
      "Resultado\n",
      " [['I1' 'I2' 'I3']\n",
      " ['I1' 'I2' 'I3']\n",
      " ['I2' 'I2' 'I3']]\n"
     ]
    }
   ],
   "source": [
    "ew_discretize_example3 = discretize.discretize(df_example_3, method=\"interval\", num_bins = 3)\n",
    "print(\"Intervalos\\n\",ew_discretize_example3.intervals, \"\\nResultado con Intervalos\\n\", ew_discretize_example3.discretized_with_interval, \"\\nResultado\\n\", ew_discretize_example3.discretized)\n"
   ]
  },
  {
   "cell_type": "code",
   "execution_count": 7,
   "metadata": {},
   "outputs": [
    {
     "name": "stdout",
     "output_type": "stream",
     "text": [
      "Intervalos\n",
      " {'(-Inf, 14.0]': 'I1', '(14.0, Inf]': 'I2'} \n",
      "Resultado con Intervalos\n",
      " [('(-Inf, 14.0]', 'I1'), ('(14.0, Inf]', 'I2'), ('(14.0, Inf]', 'I2'), ('(-Inf, 14.0]', 'I1'), ('(14.0, Inf]', 'I2'), ('(14.0, Inf]', 'I2'), ('(-Inf, 14.0]', 'I1'), ('(14.0, Inf]', 'I2'), ('(14.0, Inf]', 'I2')] \n",
      "Resultado\n",
      " [['I1' 'I2' 'I2']\n",
      " ['I1' 'I2' 'I2']\n",
      " ['I1' 'I2' 'I2']]\n"
     ]
    }
   ],
   "source": [
    "ew_discretize_example4 = discretize.discretize(matrix_example_4, method=\"interval\", num_bins = 2)\n",
    "print(\"Intervalos\\n\",ew_discretize_example4.intervals, \"\\nResultado con Intervalos\\n\", ew_discretize_example4.discretized_with_interval, \"\\nResultado\\n\", ew_discretize_example4.discretized)"
   ]
  },
  {
   "cell_type": "markdown",
   "metadata": {},
   "source": [
    "### Test 2: Equal Frequency Discretization"
   ]
  },
  {
   "cell_type": "code",
   "execution_count": 8,
   "metadata": {},
   "outputs": [
    {
     "name": "stdout",
     "output_type": "stream",
     "text": [
      "Intervalos\n",
      " {'(8.4, 11.5]': 'I3', '(-Inf, 1.2]': 'I1', '(1.2, 8.4]': 'I2', '(11.5, Inf]': 'I4'} \n",
      "Resultado con Intervalos\n",
      " [('(8.4, 11.5]', 'I3'), ('(8.4, 11.5]', 'I3'), ('(-Inf, 1.2]', 'I1'), ('(-Inf, 1.2]', 'I1'), ('(1.2, 8.4]', 'I2'), ('(11.5, Inf]', 'I4'), ('(1.2, 8.4]', 'I2')] \n",
      "Resultado\n",
      " [['I3' 'I3' 'I1' 'I1' 'I2' 'I4' 'I2']]\n"
     ]
    }
   ],
   "source": [
    "ef_discretize_example1 = discretize.discretize(v_example_1, method=\"frequency\", num_bins = 4)\n",
    "print(\"Intervalos\\n\",ef_discretize_example1.intervals, \"\\nResultado con Intervalos\\n\", ef_discretize_example1.discretized_with_interval, \"\\nResultado\\n\", ef_discretize_example1.discretized)\n"
   ]
  },
  {
   "cell_type": "code",
   "execution_count": 9,
   "metadata": {},
   "outputs": [
    {
     "name": "stdout",
     "output_type": "stream",
     "text": [
      "Intervalos\n",
      " {'(-Inf, 12]': 'I1', '(12, 18]': 'I2', '(18, Inf]': 'I3'} \n",
      "Resultado con Intervalos\n",
      " [('(-Inf, 12]', 'I1'), ('(-Inf, 12]', 'I1'), ('(-Inf, 12]', 'I1'), ('(12, 18]', 'I2'), ('(12, 18]', 'I2'), ('(12, 18]', 'I2'), ('(18, Inf]', 'I3'), ('(18, Inf]', 'I3'), ('(18, Inf]', 'I3')] \n",
      "Resultado\n",
      " [['I1' 'I1' 'I1' 'I2' 'I2' 'I2' 'I3' 'I3' 'I3']]\n"
     ]
    }
   ],
   "source": [
    "ef_discretize_example2 = discretize.discretize(v_example_2, method=\"frequency\", num_bins = 3)\n",
    "print(\"Intervalos\\n\",ef_discretize_example2.intervals, \"\\nResultado con Intervalos\\n\", ef_discretize_example2.discretized_with_interval, \"\\nResultado\\n\", ef_discretize_example2.discretized)\n"
   ]
  },
  {
   "cell_type": "code",
   "execution_count": 10,
   "metadata": {},
   "outputs": [
    {
     "name": "stdout",
     "output_type": "stream",
     "text": [
      "Intervalos\n",
      " {'(-Inf, 12]': 'I1', '(12, 18]': 'I2', '(18, Inf]': 'I3'} \n",
      "Resultado con Intervalos\n",
      " [('(-Inf, 12]', 'I1'), ('(12, 18]', 'I2'), ('(18, Inf]', 'I3'), ('(-Inf, 12]', 'I1'), ('(12, 18]', 'I2'), ('(18, Inf]', 'I3'), ('(-Inf, 12]', 'I1'), ('(12, 18]', 'I2'), ('(18, Inf]', 'I3')] \n",
      "Resultado\n",
      " [['I1' 'I2' 'I3']\n",
      " ['I1' 'I2' 'I3']\n",
      " ['I1' 'I2' 'I3']]\n"
     ]
    }
   ],
   "source": [
    "ef_discretize_example3 = discretize.discretize(df_example_3, method=\"frequency\", num_bins = 3)\n",
    "print(\"Intervalos\\n\",ef_discretize_example3.intervals, \"\\nResultado con Intervalos\\n\", ef_discretize_example3.discretized_with_interval, \"\\nResultado\\n\", ef_discretize_example3.discretized)\n"
   ]
  },
  {
   "cell_type": "code",
   "execution_count": 11,
   "metadata": {},
   "outputs": [
    {
     "name": "stdout",
     "output_type": "stream",
     "text": [
      "Intervalos\n",
      " {'(-Inf, 16]': 'I1', '(16, Inf]': 'I2'} \n",
      "Resultado con Intervalos\n",
      " [('(-Inf, 16]', 'I1'), ('(-Inf, 16]', 'I1'), ('(16, Inf]', 'I2'), ('(-Inf, 16]', 'I1'), ('(-Inf, 16]', 'I1'), ('(16, Inf]', 'I2'), ('(-Inf, 16]', 'I1'), ('(16, Inf]', 'I2'), ('(16, Inf]', 'I2')] \n",
      "Resultado\n",
      " [['I1' 'I1' 'I2']\n",
      " ['I1' 'I1' 'I2']\n",
      " ['I1' 'I2' 'I2']]\n"
     ]
    }
   ],
   "source": [
    "ef_discretize_example4 = discretize.discretize(matrix_example_4, method=\"frequency\", num_bins = 2)\n",
    "print(\"Intervalos\\n\",ef_discretize_example4.intervals, \"\\nResultado con Intervalos\\n\", ef_discretize_example4.discretized_with_interval, \"\\nResultado\\n\", ef_discretize_example4.discretized)"
   ]
  },
  {
   "cell_type": "markdown",
   "metadata": {},
   "source": [
    "### Test 3: Clustering Discretization"
   ]
  },
  {
   "cell_type": "code",
   "execution_count": 12,
   "metadata": {},
   "outputs": [
    {
     "name": "stdout",
     "output_type": "stream",
     "text": [
      "Intervalos\n",
      " {'(10.03, Inf]': 'I4', '(0.85, 5.3]': 'I2', '(-Inf, 0.85]': 'I1', '(5.3, 10.03]': 'I3'} \n",
      "Resultado con Intervalos\n",
      " [('(10.03, Inf]', 'I4'), ('(10.03, Inf]', 'I4'), ('(0.85, 5.3]', 'I2'), ('(-Inf, 0.85]', 'I1'), ('(0.85, 5.3]', 'I2'), ('(10.03, Inf]', 'I4'), ('(5.3, 10.03]', 'I3')] \n",
      "Resultado\n",
      " [['I4' 'I4' 'I2' 'I1' 'I2' 'I4' 'I3']]\n"
     ]
    }
   ],
   "source": [
    "clustering_discretize_example1 = discretize.discretize(v_example_1, method=\"clustering\",num_bins =  4)\n",
    "print(\"Intervalos\\n\",clustering_discretize_example1.intervals, \"\\nResultado con Intervalos\\n\", clustering_discretize_example1.discretized_with_interval, \"\\nResultado\\n\", clustering_discretize_example1.discretized)\n"
   ]
  },
  {
   "cell_type": "code",
   "execution_count": 13,
   "metadata": {},
   "outputs": [
    {
     "name": "stdout",
     "output_type": "stream",
     "text": [
      "Intervalos\n",
      " {'(-Inf, 2.0]': 'I1', '(2.0, 15.5]': 'I2', '(15.5, Inf]': 'I3'} \n",
      "Resultado con Intervalos\n",
      " [('(-Inf, 2.0]', 'I1'), ('(2.0, 15.5]', 'I2'), ('(2.0, 15.5]', 'I2'), ('(15.5, Inf]', 'I3'), ('(15.5, Inf]', 'I3'), ('(15.5, Inf]', 'I3'), ('(15.5, Inf]', 'I3'), ('(15.5, Inf]', 'I3'), ('(15.5, Inf]', 'I3')] \n",
      "Resultado\n",
      " [['I1' 'I2' 'I2' 'I3' 'I3' 'I3' 'I3' 'I3' 'I3']]\n"
     ]
    }
   ],
   "source": [
    "clustering_discretize_example2 = discretize.discretize(v_example_2, method=\"clustering\", num_bins = 3)\n",
    "print(\"Intervalos\\n\",clustering_discretize_example2.intervals, \"\\nResultado con Intervalos\\n\", clustering_discretize_example2.discretized_with_interval, \"\\nResultado\\n\", clustering_discretize_example2.discretized)\n"
   ]
  },
  {
   "cell_type": "code",
   "execution_count": 14,
   "metadata": {},
   "outputs": [
    {
     "name": "stdout",
     "output_type": "stream",
     "text": [
      "Intervalos\n",
      " {'(-Inf, 2.0]': 'I1', '(15.5, Inf]': 'I3', '(2.0, 15.5]': 'I2'} \n",
      "Resultado con Intervalos\n",
      " [('(-Inf, 2.0]', 'I1'), ('(15.5, Inf]', 'I3'), ('(15.5, Inf]', 'I3'), ('(2.0, 15.5]', 'I2'), ('(15.5, Inf]', 'I3'), ('(15.5, Inf]', 'I3'), ('(2.0, 15.5]', 'I2'), ('(15.5, Inf]', 'I3'), ('(15.5, Inf]', 'I3')] \n",
      "Resultado\n",
      " [['I1' 'I3' 'I3']\n",
      " ['I2' 'I3' 'I3']\n",
      " ['I2' 'I3' 'I3']]\n"
     ]
    }
   ],
   "source": [
    "clustering_discretize_example3 = discretize.discretize(df_example_3, method=\"clustering\", num_bins = 3)\n",
    "print(\"Intervalos\\n\",clustering_discretize_example3.intervals, \"\\nResultado con Intervalos\\n\", clustering_discretize_example3.discretized_with_interval, \"\\nResultado\\n\", clustering_discretize_example3.discretized)\n"
   ]
  },
  {
   "cell_type": "code",
   "execution_count": 15,
   "metadata": {},
   "outputs": [
    {
     "name": "stdout",
     "output_type": "stream",
     "text": [
      "Intervalos\n",
      " {'(-Inf, 5.33]': 'I1', '(5.33, Inf]': 'I2'} \n",
      "Resultado con Intervalos\n",
      " [('(-Inf, 5.33]', 'I1'), ('(5.33, Inf]', 'I2'), ('(5.33, Inf]', 'I2'), ('(-Inf, 5.33]', 'I1'), ('(5.33, Inf]', 'I2'), ('(5.33, Inf]', 'I2'), ('(5.33, Inf]', 'I2'), ('(5.33, Inf]', 'I2'), ('(5.33, Inf]', 'I2')] \n",
      "Resultado\n",
      " [['I1' 'I2' 'I2']\n",
      " ['I1' 'I2' 'I2']\n",
      " ['I2' 'I2' 'I2']]\n"
     ]
    }
   ],
   "source": [
    "clustering_discretize_example4 = discretize.discretize(matrix_example_4, method=\"clustering\", num_bins = 2)\n",
    "print(\"Intervalos\\n\",clustering_discretize_example4.intervals, \"\\nResultado con Intervalos\\n\", clustering_discretize_example4.discretized_with_interval, \"\\nResultado\\n\", clustering_discretize_example4.discretized)\n"
   ]
  }
 ],
 "metadata": {
  "interpreter": {
   "hash": "916dbcbb3f70747c44a77c7bcd40155683ae19c65e1c03b4aa3499c5328201f1"
  },
  "kernelspec": {
   "display_name": "Python 3.8.10 64-bit",
   "language": "python",
   "name": "python3"
  },
  "language_info": {
   "codemirror_mode": {
    "name": "ipython",
    "version": 3
   },
   "file_extension": ".py",
   "mimetype": "text/x-python",
   "name": "python",
   "nbconvert_exporter": "python",
   "pygments_lexer": "ipython3",
   "version": "3.8.10"
  },
  "orig_nbformat": 4
 },
 "nbformat": 4,
 "nbformat_minor": 2
}
