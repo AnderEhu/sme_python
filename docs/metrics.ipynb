{
 "cells": [
  {
   "cell_type": "markdown",
   "metadata": {},
   "source": [
    "# MODULE scaling.py"
   ]
  },
  {
   "cell_type": "markdown",
   "metadata": {},
   "source": [
    "## Imports"
   ]
  },
  {
   "cell_type": "code",
   "execution_count": 87,
   "metadata": {},
   "outputs": [],
   "source": [
    "from sme import metrics\n",
    "import pandas as pd\n",
    "import numpy as np"
   ]
  },
  {
   "cell_type": "markdown",
   "metadata": {},
   "source": [
    "## Functions"
   ]
  },
  {
   "cell_type": "markdown",
   "metadata": {},
   "source": [
    "### variance"
   ]
  },
  {
   "cell_type": "markdown",
   "metadata": {},
   "source": [
    "Variance is the expectation of the squared deviation of a random variable from its population mean or sample mean. Variance is a measure of dispersion, meaning it is a measure of how far a set of numbers is spread out from their average value:\n",
    "\n",
    "$\n",
    "\\sigma^2 = \\sum_{1}^{n} \\frac{(x_i - mean(x))^2}{n-1}\n",
    "$\n"
   ]
  },
  {
   "cell_type": "code",
   "execution_count": 88,
   "metadata": {},
   "outputs": [
    {
     "name": "stdout",
     "output_type": "stream",
     "text": [
      "Help on function variance in module sme.metrics:\n",
      "\n",
      "variance(x, axis=0)\n",
      "    Description:\n",
      "        Variance of a list, array or dataframe\n",
      "    \n",
      "    Parameters:\n",
      "        x (list, array, dataframe): input data\n",
      "        axis (0-1):\n",
      "            - (0) Apply variance by columns\n",
      "            - (1) Apply variance by rows \n",
      "    \n",
      "    Returns:\n",
      "        Sample variance of the input data\n",
      "\n"
     ]
    }
   ],
   "source": [
    "\n",
    "help(metrics.variance)\n"
   ]
  },
  {
   "cell_type": "code",
   "execution_count": 89,
   "metadata": {},
   "outputs": [],
   "source": [
    "df = pd.DataFrame([[84, 54, 42],[67, 74, 13]])\n"
   ]
  },
  {
   "cell_type": "code",
   "execution_count": 90,
   "metadata": {},
   "outputs": [
    {
     "name": "stdout",
     "output_type": "stream",
     "text": [
      "Variance by columns of \n",
      "\n",
      "     0   1   2\n",
      "0  84  54  42\n",
      "1  67  74  13 \n",
      "\n",
      "is: \n",
      " 0    144.5\n",
      "1    200.0\n",
      "2    420.5\n",
      "dtype: float64\n"
     ]
    }
   ],
   "source": [
    "print(\"Variance by columns of \\n\\n\", df, \"\\n\\nis: \\n\", metrics.variance(df, axis=0))\n"
   ]
  },
  {
   "cell_type": "code",
   "execution_count": 91,
   "metadata": {},
   "outputs": [
    {
     "name": "stdout",
     "output_type": "stream",
     "text": [
      "Variance by rows of \n",
      "\n",
      "     0   1   2\n",
      "0  84  54  42\n",
      "1  67  74  13 \n",
      "\n",
      "is: \n",
      " 0     468.000000\n",
      "1    1114.333333\n",
      "dtype: float64\n"
     ]
    }
   ],
   "source": [
    "print(\"Variance by rows of \\n\\n\", df, \"\\n\\nis: \\n\", metrics.variance(df, axis=1))\n"
   ]
  },
  {
   "cell_type": "markdown",
   "metadata": {},
   "source": [
    "### entropy\n"
   ]
  },
  {
   "cell_type": "markdown",
   "metadata": {},
   "source": [
    "Entropy of a random variable is the average level of \"information\", \"surprise\", or \"uncertainty\" inherent to the variable's possible outcomes. \n",
    "\n",
    "$H(X)= -\\sum_{1}^{n}P(x_i)log[P(x_i)]$"
   ]
  },
  {
   "cell_type": "code",
   "execution_count": 92,
   "metadata": {},
   "outputs": [
    {
     "name": "stdout",
     "output_type": "stream",
     "text": [
      "Help on function entropy in module sme.metrics:\n",
      "\n",
      "entropy(x, axis=0)\n",
      "    Description:\n",
      "        Entropy of a list, array or dataframe\n",
      "    \n",
      "    Parameters:\n",
      "        x (list, array, dataframe): input data\n",
      "        axis (0-1):\n",
      "            - (0) Apply variance by columns\n",
      "            - (1) Apply variance by rows \n",
      "    \n",
      "    Returns:\n",
      "        Sample entropy of the input data\n",
      "\n"
     ]
    }
   ],
   "source": [
    "help(metrics.entropy)\n"
   ]
  },
  {
   "cell_type": "code",
   "execution_count": 93,
   "metadata": {},
   "outputs": [],
   "source": [
    "col1 =  ['False', 'False', 'True', 'True', 'True', 'True', 'False', 'True', 'False', 'False']\n",
    "col2 = ['True', 'False', 'False', 'False', 'True', 'True', 'False', 'False', 'False', 'False']\n",
    "col3 = ['a', 'b', 'c', 'a', 'a', 'a', 'l', 'a', 'l', 'a']\n",
    "df = pd.DataFrame({\"V1\": col1, \"V2\": col2, \"V3\": col3})\n"
   ]
  },
  {
   "cell_type": "code",
   "execution_count": 94,
   "metadata": {},
   "outputs": [
    {
     "name": "stdout",
     "output_type": "stream",
     "text": [
      "Entropy by column of \n",
      "\n",
      "       V1     V2 V3\n",
      "0  False   True  a\n",
      "1  False  False  b\n",
      "2   True  False  c\n",
      "3   True  False  a\n",
      "4   True   True  a\n",
      "5   True   True  a\n",
      "6  False  False  l\n",
      "7   True  False  a\n",
      "8  False  False  l\n",
      "9  False  False  a \n",
      "\n",
      "is: \n",
      "\n",
      " V1    1.000000\n",
      "V2    0.881291\n",
      "V3    1.570951\n",
      "dtype: float64\n"
     ]
    }
   ],
   "source": [
    "print(\"Entropy by column of \\n\\n\", df, \"\\n\\nis: \\n\\n\", metrics.entropy(df, axis=0))\n"
   ]
  },
  {
   "cell_type": "code",
   "execution_count": 95,
   "metadata": {},
   "outputs": [
    {
     "name": "stdout",
     "output_type": "stream",
     "text": [
      "Entropy by row of \n",
      "\n",
      "       V1     V2 V3\n",
      "0  False   True  a\n",
      "1  False  False  b\n",
      "2   True  False  c\n",
      "3   True  False  a\n",
      "4   True   True  a\n",
      "5   True   True  a\n",
      "6  False  False  l\n",
      "7   True  False  a\n",
      "8  False  False  l\n",
      "9  False  False  a \n",
      "\n",
      "is: \n",
      "\n",
      " 0    1.584963\n",
      "1    0.918296\n",
      "2    1.584963\n",
      "3    1.584963\n",
      "4    0.918296\n",
      "5    0.918296\n",
      "6    0.918296\n",
      "7    1.584963\n",
      "8    0.918296\n",
      "9    0.918296\n",
      "dtype: float64\n"
     ]
    }
   ],
   "source": [
    "print(\"Entropy by row of \\n\\n\", df, \"\\n\\nis: \\n\\n\", metrics.entropy(df, axis=1))\n"
   ]
  },
  {
   "cell_type": "markdown",
   "metadata": {},
   "source": [
    "### conditional_entropy\n"
   ]
  },
  {
   "cell_type": "markdown",
   "metadata": {},
   "source": [
    "Conditional entropy quantifies the amount of information needed to describe the outcome of a random variable  Y given that the value of another random variable X is known.\n",
    "\n",
    "$H(X|Y) = -\\sum\\sum p(x,y)log[\\frac{p(x,y)}{p(x)}]$"
   ]
  },
  {
   "cell_type": "code",
   "execution_count": 96,
   "metadata": {},
   "outputs": [
    {
     "name": "stdout",
     "output_type": "stream",
     "text": [
      "Help on function conditional_entropy in module sme.metrics:\n",
      "\n",
      "conditional_entropy(x, y=None, file=None)\n",
      "    Description:\n",
      "        Conditional entropy of an array or a dataframe\n",
      "    \n",
      "    Parameters:\n",
      "        x (list, array or dataframe): input data\n",
      "        y (list or array): input data\n",
      "        file (string): represent the name of output file for saving conditional entropy plot\n",
      "    \n",
      "    \n",
      "    Returns:\n",
      "        Sample conditional entropy of the input data\n",
      "\n"
     ]
    }
   ],
   "source": [
    "help(metrics.conditional_entropy)"
   ]
  },
  {
   "cell_type": "code",
   "execution_count": 97,
   "metadata": {},
   "outputs": [
    {
     "name": "stdout",
     "output_type": "stream",
     "text": [
      "Conditional entropy by column of \n",
      "\n",
      "       V1     V2 V3\n",
      "0  False   True  a\n",
      "1  False  False  b\n",
      "2   True  False  c\n",
      "3   True  False  a\n",
      "4   True   True  a\n",
      "5   True   True  a\n",
      "6  False  False  l\n",
      "7   True  False  a\n",
      "8  False  False  l\n",
      "9  False  False  a \n",
      "\n",
      "is: \n",
      "\n",
      "       V1    V2    V3\n",
      "V1  0.00  0.97  0.55\n",
      "V2  0.85  0.00  0.60\n",
      "V3  1.12  1.29  0.00\n"
     ]
    },
    {
     "data": {
      "image/png": "[encoded data removed]",
      "text/plain": [
       "<Figure size 640x480 with 1 Axes>"
      ]
     },
     "metadata": {},
     "output_type": "display_data"
    },
    {
     "data": {
      "text/plain": [
       "<ggplot: (8759436366520)>"
      ]
     },
     "execution_count": 97,
     "metadata": {},
     "output_type": "execute_result"
    }
   ],
   "source": [
    "condEntropy = metrics.conditional_entropy(df)\n",
    "print(\"Conditional entropy by column of \\n\\n\", df, \"\\n\\nis: \\n\\n\", condEntropy)\n",
    "metrics.plot_dataframe(condEntropy, \"Conditional Entropy\", colors= [\"#692be2\", \"White\", \"#ddcbff\"])\n"
   ]
  },
  {
   "cell_type": "markdown",
   "metadata": {},
   "source": [
    "### joint_entropy\n"
   ]
  },
  {
   "cell_type": "markdown",
   "metadata": {},
   "source": [
    "Joint entropy is a measure of the uncertainty associated with a set of variables.\n",
    "\n",
    "$H(X, Y) = - \\sum\\sum p(x, y)log[p(x,y)]$"
   ]
  },
  {
   "cell_type": "code",
   "execution_count": 98,
   "metadata": {},
   "outputs": [
    {
     "name": "stdout",
     "output_type": "stream",
     "text": [
      "Help on function joint_entropy in module sme.metrics:\n",
      "\n",
      "joint_entropy(x, y=None, file=None)\n",
      "    Description:\n",
      "        Joint entropy of an array or a dataframe\n",
      "    \n",
      "    Parameters:\n",
      "        x (list, array or dataframe): input data\n",
      "        y (list or array): input data\n",
      "        file (string): represent the name of output file for saving joint entropy plot\n",
      "    \n",
      "    \n",
      "    Returns:\n",
      "        Sample joint entropy of the input data\n",
      "\n"
     ]
    }
   ],
   "source": [
    "help(metrics.joint_entropy)"
   ]
  },
  {
   "cell_type": "code",
   "execution_count": 99,
   "metadata": {},
   "outputs": [
    {
     "name": "stdout",
     "output_type": "stream",
     "text": [
      "Joint entropy by column of \n",
      "\n",
      "       V1     V2 V3\n",
      "0  False   True  a\n",
      "1  False  False  b\n",
      "2   True  False  c\n",
      "3   True  False  a\n",
      "4   True   True  a\n",
      "5   True   True  a\n",
      "6  False  False  l\n",
      "7   True  False  a\n",
      "8  False  False  l\n",
      "9  False  False  a \n",
      "\n",
      "is: \n",
      "\n",
      "           V1        V2        V3\n",
      "V1  1.000000  1.846439  2.121928\n",
      "V2  1.846439  0.881291  2.170951\n",
      "V3  2.121928  2.170951  1.570951\n"
     ]
    },
    {
     "data": {
      "image/png": "[encoded data removed]",
      "text/plain": [
       "<Figure size 640x480 with 1 Axes>"
      ]
     },
     "metadata": {},
     "output_type": "display_data"
    },
    {
     "data": {
      "text/plain": [
       "<ggplot: (8759438663304)>"
      ]
     },
     "execution_count": 99,
     "metadata": {},
     "output_type": "execute_result"
    }
   ],
   "source": [
    "joinyEntropy = metrics.joint_entropy(df)\n",
    "print(\"Joint entropy by column of \\n\\n\", df, \"\\n\\nis: \\n\\n\", joinyEntropy)\n",
    "metrics.plot_dataframe(joinyEntropy, \"Joint Entropy\", colors=[\"#9999ff\", \"#6b7db3\", \"#6bb3b3\"])"
   ]
  },
  {
   "cell_type": "markdown",
   "metadata": {},
   "source": [
    "### mutual_information"
   ]
  },
  {
   "cell_type": "markdown",
   "metadata": {},
   "source": [
    "Mutual information (MI) of two random variables is a measure of the mutual dependence between the two variables. More specifically, it quantifies the \"amount of information\" (in units such as shannons (bits), nats or hartleys) obtained about one random variable by observing the other random variable.\n",
    "\n",
    "$I(X, Y) = \\sum\\sum p(x, y)log[\\frac{p(x,y)}{p(x)p(y)}]$\n",
    "\n",
    "$I(X, Y) = H(X) - H(X|Y) \n",
    "        =  H(Y) - H(Y|X) = H(X) + H(Y) - H(X, Y) = H(X, Y) - H(X|Y) - H(Y|X)$"
   ]
  },
  {
   "cell_type": "code",
   "execution_count": 100,
   "metadata": {},
   "outputs": [
    {
     "name": "stdout",
     "output_type": "stream",
     "text": [
      "Help on function mutual_information in module sme.metrics:\n",
      "\n",
      "mutual_information(x, y=None, file=None)\n",
      "    Description:\n",
      "        Mutual information of an array or a dataframe\n",
      "    \n",
      "    Parameters:\n",
      "        x (list, array or dataframe): input data\n",
      "        y (list or array): input data\n",
      "        file (string): represent the name of output file for saving mutual information plot\n",
      "    \n",
      "    \n",
      "    Returns:\n",
      "        Sample mutual information of the input data\n",
      "\n"
     ]
    }
   ],
   "source": [
    "help(metrics.mutual_information)"
   ]
  },
  {
   "cell_type": "code",
   "execution_count": 101,
   "metadata": {},
   "outputs": [
    {
     "name": "stdout",
     "output_type": "stream",
     "text": [
      "Mutual information by column of \n",
      "\n",
      "       V1     V2 V3\n",
      "0  False   True  a\n",
      "1  False  False  b\n",
      "2   True  False  c\n",
      "3   True  False  a\n",
      "4   True   True  a\n",
      "5   True   True  a\n",
      "6  False  False  l\n",
      "7   True  False  a\n",
      "8  False  False  l\n",
      "9  False  False  a \n",
      "\n",
      "is: \n",
      "\n",
      "       V1    V2    V3\n",
      "V1  1.00  0.03  0.45\n",
      "V2  0.03  0.88  0.28\n",
      "V3  0.45  0.28  1.57\n"
     ]
    },
    {
     "data": {
      "image/png": "[encoded data removed]",
      "text/plain": [
       "<Figure size 640x480 with 1 Axes>"
      ]
     },
     "metadata": {},
     "output_type": "display_data"
    },
    {
     "data": {
      "text/plain": [
       "<ggplot: (8759434896653)>"
      ]
     },
     "execution_count": 101,
     "metadata": {},
     "output_type": "execute_result"
    }
   ],
   "source": [
    "mi = metrics.mutual_information(df)\n",
    "print(\"Mutual information by column of \\n\\n\", df, \"\\n\\nis: \\n\\n\", mi)\n",
    "metrics.plot_dataframe(mi, \"Mutual information\", colors=[\"#ffd699\", \"White\", \"#b3966b\"])"
   ]
  },
  {
   "cell_type": "markdown",
   "metadata": {},
   "source": [
    "### correlation"
   ]
  },
  {
   "cell_type": "markdown",
   "metadata": {},
   "source": [
    "Correlation is a statistic that measures the degree to which two variables move in relation to each other.\n",
    "\n",
    "Pearson correlation, $r_{pearson}$ It is the ratio between the covariance of two variables and the product of their standard deviations;\n",
    "\n",
    "$r_{pearson} = \\frac{Cov(x,y)}{\\sigma(x)\\sigma(y)}$\n",
    "\n",
    "Spearman correlation, $r_{spearman}$,  is a nonparametric measure of rank correlation (statistical dependence between the rankings of two variables)\n",
    "\n",
    "$r_{spearman} = 1 - \\frac{6\\sum d_i^2}{n(n^2-1)}$"
   ]
  },
  {
   "cell_type": "code",
   "execution_count": 102,
   "metadata": {},
   "outputs": [
    {
     "name": "stdout",
     "output_type": "stream",
     "text": [
      "Help on function correlation in module sme.metrics:\n",
      "\n",
      "correlation(x, y=None, method='Pearson', file=None)\n",
      "    Description:\n",
      "        Correlation of an array or a dataframe\n",
      "    \n",
      "    Parameters:\n",
      "        x (list, array or dataframe): input data\n",
      "        y (list or array): input data\n",
      "        method (\"Pearson\" or \"Spearman\"): \"Pearson\" or \"Spearman\" method for calculate correlation\n",
      "        file (string): represent the name of output file for saving correlation plot\n",
      "    \n",
      "    \n",
      "    Returns:\n",
      "        Sample correlation of the input data\n",
      "\n"
     ]
    }
   ],
   "source": [
    "help(metrics.correlation)\n"
   ]
  },
  {
   "cell_type": "code",
   "execution_count": 103,
   "metadata": {},
   "outputs": [
    {
     "name": "stdout",
     "output_type": "stream",
     "text": [
      "      Var1  Var2\n",
      "Var1  1.00 -0.19\n",
      "Var2 -0.19  1.00\n"
     ]
    }
   ],
   "source": [
    "col1  = [7, 0, 28, 50, 28,28,20,12,7,17]\n",
    "col2 = [106, 86, 100, 100, 99, 103, 97, 113, 113, 110]\n",
    "c = metrics.correlation(col1, col2, method=\"Spearman\")\n",
    "print(c)\n"
   ]
  },
  {
   "cell_type": "code",
   "execution_count": 104,
   "metadata": {},
   "outputs": [
    {
     "data": {
      "image/png": "[encoded data removed]",
      "text/plain": [
       "<Figure size 640x480 with 1 Axes>"
      ]
     },
     "metadata": {},
     "output_type": "display_data"
    },
    {
     "name": "stdout",
     "output_type": "stream",
     "text": [
      "\n"
     ]
    }
   ],
   "source": [
    "print(metrics.plot_dataframe(c, \"Correlation\"))"
   ]
  },
  {
   "cell_type": "markdown",
   "metadata": {},
   "source": [
    "### roc_curve\n",
    "\n",
    "The Receiver Operator Characteristic (ROC) curve is an evaluation metric for binary classification problems (can also be applied to a variable). It is a probability curve that plots the TPR against FPR.\n",
    "\n",
    "The higher the AUC, the better the performance of the variable."
   ]
  },
  {
   "cell_type": "code",
   "execution_count": 105,
   "metadata": {},
   "outputs": [
    {
     "name": "stdout",
     "output_type": "stream",
     "text": [
      "Help on function roc_curve in module sme.metrics:\n",
      "\n",
      "roc_curve(x, y, file=None, AUC=False)\n",
      "    Description:\n",
      "        Roc curve of a variable\n",
      "    \n",
      "    Parameters:\n",
      "        x (integer list or array): predictor variable \n",
      "        y (logical array or list): class variable\n",
      "        auc (int): return auc value\n",
      "        file:  name of output file for saving roc curve plot.\n",
      "    \n",
      "    \n",
      "    Returns:\n",
      "        auc value or a dataframe with FPR and TPR\n",
      "\n"
     ]
    }
   ],
   "source": [
    "help(metrics.roc_curve)\n"
   ]
  },
  {
   "cell_type": "code",
   "execution_count": 106,
   "metadata": {},
   "outputs": [
    {
     "name": "stderr",
     "output_type": "stream",
     "text": [
      "/home/ander/.local/lib/python3.8/site-packages/plotnine/ggplot.py:719: PlotnineWarning: Saving 15.0 x 15.0 cm image.\n",
      "/home/ander/.local/lib/python3.8/site-packages/plotnine/ggplot.py:722: PlotnineWarning: Filename: perfectAUC.jpg\n"
     ]
    }
   ],
   "source": [
    "\n",
    "perfX = np.arange(100)\n",
    "perfY = [False] * 50 + [True] * 50\n",
    "perf_roc_curve = metrics.roc_curve(perfX, perfY, \"perfectAUC\")\n"
   ]
  },
  {
   "cell_type": "markdown",
   "metadata": {},
   "source": [
    "<img src=\"perfectAUC.jpg\" width=\"700\" height=\"700\">"
   ]
  },
  {
   "cell_type": "code",
   "execution_count": 107,
   "metadata": {},
   "outputs": [
    {
     "name": "stderr",
     "output_type": "stream",
     "text": [
      "/home/ander/.local/lib/python3.8/site-packages/plotnine/ggplot.py:719: PlotnineWarning: Saving 15.0 x 15.0 cm image.\n",
      "/home/ander/.local/lib/python3.8/site-packages/plotnine/ggplot.py:722: PlotnineWarning: Filename: worstAUC.jpg\n"
     ]
    }
   ],
   "source": [
    "\n",
    "    \n",
    "worstX = np.arange(100)\n",
    "worstY = [True] * 50 + [False] * 50\n",
    "worst_roc_curve = metrics.roc_curve(worstX, worstY, \"worstAUC\")\n"
   ]
  },
  {
   "cell_type": "markdown",
   "metadata": {},
   "source": [
    "<img src=\"worstAUC.jpg\" width=\"700\" height=\"700\">"
   ]
  },
  {
   "cell_type": "code",
   "execution_count": 108,
   "metadata": {},
   "outputs": [
    {
     "name": "stderr",
     "output_type": "stream",
     "text": [
      "/home/ander/.local/lib/python3.8/site-packages/plotnine/ggplot.py:719: PlotnineWarning: Saving 15.0 x 15.0 cm image.\n",
      "/home/ander/.local/lib/python3.8/site-packages/plotnine/ggplot.py:722: PlotnineWarning: Filename: randAUC.jpg\n"
     ]
    }
   ],
   "source": [
    "\n",
    "randX = np.arange(100)\n",
    "np.random.shuffle(randX)\n",
    "randY =[True] * 50 + [False] * 50\n",
    "np.random.shuffle(randY)\n",
    "rand_roc_curve = metrics.roc_curve(randX, randY, \"randAUC\")"
   ]
  },
  {
   "cell_type": "markdown",
   "metadata": {},
   "source": [
    "<img src=\"randAUC.jpg\" width=\"700\" height=\"700\">"
   ]
  },
  {
   "cell_type": "markdown",
   "metadata": {},
   "source": [
    "### filter"
   ]
  },
  {
   "cell_type": "markdown",
   "metadata": {},
   "source": [
    "Given a dataframe, a metric, an upper limit and a lower limit return a filtered dataframe with the specified metric that satisfies the upper and lower bounds. For AUC metric it is required to specified class name."
   ]
  },
  {
   "cell_type": "code",
   "execution_count": 109,
   "metadata": {},
   "outputs": [
    {
     "name": "stdout",
     "output_type": "stream",
     "text": [
      "Help on function filter in module sme.metrics:\n",
      "\n",
      "filter(df, by, uplimit, lowlimit, className=None)\n",
      "    Description:\n",
      "        Given a dataframe, a metric, an upper limit and a lower limit. \n",
      "        Return a filtered dataframe with the specified metric that satisfies the upper and lower bounds.\n",
      "        For AUC metric it is required to specified class name.\n",
      "    \n",
      "    Parameters:\n",
      "        df (data.frame): Each colum represent a variable\n",
      "        by (string): metric to apply the filter. AUC, Variance and Entropy are available.\n",
      "        uplimit (int): metric uplimit value.\n",
      "        lowlimit (int):  metric uplimit value.\n",
      "        classname (string): clase name (logic). \n",
      "                            Required for AUC and optional for Entropy and Variance\n",
      "    \n",
      "    \n",
      "    Returns:\n",
      "        Filtered data.frame\n",
      "\n"
     ]
    }
   ],
   "source": [
    "help(metrics.filter)"
   ]
  },
  {
   "cell_type": "code",
   "execution_count": 110,
   "metadata": {},
   "outputs": [
    {
     "name": "stdout",
     "output_type": "stream",
     "text": [
      "Variances\n",
      " V1    6.190476e-01\n",
      "V2    2.047619e+01\n",
      "V3    1.175905e+03\n",
      "V4    1.377629e+06\n",
      "dtype: float64 \n",
      "\n",
      "\n",
      "Filtered by Variance with uplimit of 100 and lowlimit of 0: \n",
      "    V2   V3\n",
      "0  13    7\n",
      "1   2    9\n",
      "2   1    1\n",
      "3   0   30\n",
      "4   1  100\n",
      "5   1   10\n",
      "6   2   20\n"
     ]
    }
   ],
   "source": [
    "dfVariance = pd.DataFrame({\"V1\": [1, 2, 1, 3, 1, 1, 2] , \"V2\": [13, 2, 1, 0, 1, 1, 2] ,\"V3\": [7, 9, 1, 30, 100, 10, 20],\"V4\":[700, 90, 55, 3111, 1020, 1, 2000]})\n",
    "print(\"Variances\\n\", metrics.variance(dfVariance), \"\\n\\n\")\n",
    "print(\"Filtered by Variance with uplimit of 100 and lowlimit of 0: \\n\", metrics.filter(dfVariance, \"Variance\",1500,1))\n"
   ]
  },
  {
   "cell_type": "code",
   "execution_count": 111,
   "metadata": {},
   "outputs": [
    {
     "name": "stdout",
     "output_type": "stream",
     "text": [
      "Entropies\n",
      " V1    1.521928\n",
      "V2    1.370951\n",
      "V3    2.321928\n",
      "V4   -0.000000\n",
      "dtype: float64 \n",
      "\n",
      "\n",
      "Filtered by entropy with uplimit of 100 and lowlimit of 0: \n",
      "    V1  V2\n",
      "0   1  13\n",
      "1   2   2\n",
      "2   1   1\n",
      "3   3   0\n",
      "4   1   1\n",
      "5   1   1\n",
      "6   2   2\n"
     ]
    }
   ],
   "source": [
    "\n",
    "\n",
    "dfEntropy = pd.DataFrame({\"V1\": ['a', 'a', 'b', 'b', 'c'] , \"V2\": ['a', 'b', 'b', 'b', 'c'] ,\"V3\": ['a', 'b', 'c', 'd', 'e'],\"V4\":['a', 'a', 'a', 'a', 'a']})\n",
    "print(\"Entropies\\n\", metrics.entropy(dfEntropy), \"\\n\\n\")\n",
    "print(\"Filtered by entropy with uplimit of 100 and lowlimit of 0: \\n\", metrics.filter(dfVariance, \"Variance\",100,0))\n"
   ]
  },
  {
   "cell_type": "code",
   "execution_count": 112,
   "metadata": {},
   "outputs": [
    {
     "name": "stdout",
     "output_type": "stream",
     "text": [
      "Filtered by AUC with uplimit of 1 and lowlimit of 0.5: \n",
      "     V1  V2  V3  class\n",
      "0   49   0  99   True\n",
      "1   87   1  98  False\n",
      "2   19   2  97  False\n",
      "3    4   3  96  False\n",
      "4   44   4  95  False\n",
      "..  ..  ..  ..    ...\n",
      "95  92  95   4   True\n",
      "96  56  96   3   True\n",
      "97  41  97   2  False\n",
      "98  36  98   1  False\n",
      "99  31  99   0  False\n",
      "\n",
      "[100 rows x 4 columns]\n"
     ]
    }
   ],
   "source": [
    "v1V = np.arange(100)\n",
    "np.random.shuffle(v1V)\n",
    "classV = [True] * 50 + [False] * 50\n",
    "np.random.shuffle(classV)\n",
    "\n",
    "dfAUC= pd.DataFrame({\"V1\": v1V, \"V2\": np.arange(100) ,\"V3\": reversed(np.arange(100)),\"class\":classV})\n",
    "\n",
    "\n",
    "print(\"Filtered by AUC with uplimit of 1 and lowlimit of 0.5: \\n\", metrics.filter(dfAUC, \"AUC\",1,0.4, \"class\"))"
   ]
  }
 ],
 "metadata": {
  "interpreter": {
   "hash": "916dbcbb3f70747c44a77c7bcd40155683ae19c65e1c03b4aa3499c5328201f1"
  },
  "kernelspec": {
   "display_name": "Python 3.8.10 64-bit",
   "language": "python",
   "name": "python3"
  },
  "language_info": {
   "codemirror_mode": {
    "name": "ipython",
    "version": 3
   },
   "file_extension": ".py",
   "mimetype": "text/x-python",
   "name": "python",
   "nbconvert_exporter": "python",
   "pygments_lexer": "ipython3",
   "version": "3.8.10"
  },
  "orig_nbformat": 4
 },
 "nbformat": 4,
 "nbformat_minor": 2
}
