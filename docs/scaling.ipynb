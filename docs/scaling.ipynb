{
 "cells": [
  {
   "cell_type": "markdown",
   "metadata": {},
   "source": [
    "# MODULE scaling.py"
   ]
  },
  {
   "cell_type": "markdown",
   "metadata": {},
   "source": [
    "## Imports"
   ]
  },
  {
   "cell_type": "code",
   "execution_count": 1,
   "metadata": {},
   "outputs": [],
   "source": [
    "from sme import scaling\n",
    "import pandas as pd\n",
    "import numpy as np"
   ]
  },
  {
   "cell_type": "markdown",
   "metadata": {},
   "source": [
    "## Functions"
   ]
  },
  {
   "cell_type": "markdown",
   "metadata": {},
   "source": [
    "## normalize"
   ]
  },
  {
   "cell_type": "markdown",
   "metadata": {},
   "source": [
    "The goal of normalization is to transform features to be on a similar scale, implemented method is max-min normalization:\n",
    "\n",
    "$x_{normalize} = \\frac{x - min(x)}{max(x)-min(x)}$"
   ]
  },
  {
   "cell_type": "code",
   "execution_count": 2,
   "metadata": {},
   "outputs": [
    {
     "name": "stdout",
     "output_type": "stream",
     "text": [
      "Help on function normalize in module sme.scaling:\n",
      "\n",
      "normalize(df, margin=0)\n",
      "    Description:\n",
      "        Lists, numpy arrays or panda dataframes normalization\n",
      "    \n",
      "    Parameters:\n",
      "        x (list, array, dataframe): input data\n",
      "        margin (int): \n",
      "                        0 - normalize by columns \n",
      "                        1 - normalize by rows.\n",
      "    Returns:\n",
      "        A normalized result (dataframe)\n",
      "\n"
     ]
    }
   ],
   "source": [
    "help(scaling.normalize)"
   ]
  },
  {
   "cell_type": "markdown",
   "metadata": {},
   "source": [
    "## standardize"
   ]
  },
  {
   "cell_type": "markdown",
   "metadata": {},
   "source": [
    "Standardization rescales data to have a mean (μ) of 0 and standard deviation (σ) of 1 (unit variance).\n",
    "\n",
    "$x_{standardize} = \\frac{x-mean(x)}{\\sigma (x)}$"
   ]
  },
  {
   "cell_type": "code",
   "execution_count": 3,
   "metadata": {},
   "outputs": [
    {
     "name": "stdout",
     "output_type": "stream",
     "text": [
      "Help on function standardize in module sme.scaling:\n",
      "\n",
      "standardize(df, margin=0)\n",
      "    Description:\n",
      "        Lists, numpy arrays or panda dataframes standardization\n",
      "    \n",
      "    Parameters:\n",
      "        x (list, array, dataframe): input data\n",
      "        margin (int): \n",
      "                        0 - standardize by columns \n",
      "                        1 - standardize by rows.\n",
      "    Returns:\n",
      "        A standardize result (dataframe)\n",
      "\n"
     ]
    }
   ],
   "source": [
    "help(scaling.standardize)"
   ]
  },
  {
   "cell_type": "markdown",
   "metadata": {},
   "source": [
    "\n",
    "## Tests"
   ]
  },
  {
   "cell_type": "code",
   "execution_count": 4,
   "metadata": {},
   "outputs": [],
   "source": [
    "v = np.array([[1,2],[3, 4]])\n",
    "l = [[1,2],[3, 4]]\n",
    "l2 = [1,2,3,4]\n",
    "df1 = pd.DataFrame({'V1': [1, 2, 3], 'V2': [3, 4, 5], \"V3\": [5, 6, 7]})\n",
    "df2 = pd.DataFrame({'V1': [10, 2, 5, 2, 3, 5, 7, 1], 'V2': [1, 20, 15, 2, 31, 52, 7, 10], \"V3\": [9, 1, 4, 20, 300, 5, 72, 11]})"
   ]
  },
  {
   "cell_type": "markdown",
   "metadata": {},
   "source": [
    "### Test 1: Standardization"
   ]
  },
  {
   "cell_type": "code",
   "execution_count": 5,
   "metadata": {},
   "outputs": [
    {
     "name": "stdout",
     "output_type": "stream",
     "text": [
      "Input data: \n",
      " [[1 2]\n",
      " [3 4]] \n",
      "Standardization result by columns: \n",
      "           0         1\n",
      "0 -0.707107 -0.707107\n",
      "1  0.707107  0.707107\n"
     ]
    }
   ],
   "source": [
    "print(\"Input data: \\n\", v ,\"\\nStandardization result by columns: \\n\", scaling.standardize(v, margin=0))\n"
   ]
  },
  {
   "cell_type": "code",
   "execution_count": 6,
   "metadata": {},
   "outputs": [
    {
     "name": "stdout",
     "output_type": "stream",
     "text": [
      "Input data: \n",
      " [[1 2]\n",
      " [3 4]] \n",
      "Standardization result by rows: \n",
      "           0         1\n",
      "0 -0.707107  0.707107\n",
      "1 -0.707107  0.707107\n"
     ]
    }
   ],
   "source": [
    "print(\"Input data: \\n\", v ,\"\\nStandardization result by rows: \\n\", scaling.standardize(v, margin=1))\n"
   ]
  },
  {
   "cell_type": "code",
   "execution_count": 7,
   "metadata": {},
   "outputs": [
    {
     "name": "stdout",
     "output_type": "stream",
     "text": [
      "Input data: \n",
      " [[1, 2], [3, 4]] \n",
      "Standardization result by columns: \n",
      "           0         1\n",
      "0 -0.707107 -0.707107\n",
      "1  0.707107  0.707107\n"
     ]
    }
   ],
   "source": [
    "\n",
    "\n",
    "print(\"Input data: \\n\",l ,\"\\nStandardization result by columns: \\n\", scaling.standardize(l, margin=0))\n"
   ]
  },
  {
   "cell_type": "code",
   "execution_count": 8,
   "metadata": {},
   "outputs": [
    {
     "name": "stdout",
     "output_type": "stream",
     "text": [
      "Input data: \n",
      " [[1, 2], [3, 4]] \n",
      "Standardization result by rows: \n",
      "           0         1\n",
      "0 -0.707107  0.707107\n",
      "1 -0.707107  0.707107\n"
     ]
    }
   ],
   "source": [
    "print(\"Input data: \\n\",l ,\"\\nStandardization result by rows: \\n\", scaling.standardize(l, margin=1))\n"
   ]
  },
  {
   "cell_type": "code",
   "execution_count": 9,
   "metadata": {},
   "outputs": [
    {
     "name": "stdout",
     "output_type": "stream",
     "text": [
      "Input data: \n",
      " [1, 2, 3, 4] \n",
      "Standardization result by columns: \n",
      "           0\n",
      "0 -1.161895\n",
      "1 -0.387298\n",
      "2  0.387298\n",
      "3  1.161895\n"
     ]
    }
   ],
   "source": [
    "\n",
    "print(\"Input data: \\n\",l2 ,\"\\nStandardization result by columns: \\n\", scaling.standardize(l2, margin=0))\n"
   ]
  },
  {
   "cell_type": "code",
   "execution_count": 10,
   "metadata": {},
   "outputs": [
    {
     "name": "stdout",
     "output_type": "stream",
     "text": [
      "Input data: \n",
      " [1, 2, 3, 4] \n",
      "Standardization result by rows: \n",
      " 0    0\n",
      "1    0\n",
      "2    0\n",
      "3    0\n",
      "dtype: int64\n"
     ]
    }
   ],
   "source": [
    "print(\"Input data: \\n\",l2 ,\"\\nStandardization result by rows: \\n\", scaling.standardize(l2, margin=1))\n"
   ]
  },
  {
   "cell_type": "code",
   "execution_count": 11,
   "metadata": {},
   "outputs": [
    {
     "name": "stdout",
     "output_type": "stream",
     "text": [
      "Input data: \n",
      "    V1  V2  V3\n",
      "0   1   3   5\n",
      "1   2   4   6\n",
      "2   3   5   7 \n",
      "Standardization result by columns: \n",
      "     V1   V2   V3\n",
      "0 -1.0 -1.0 -1.0\n",
      "1  0.0  0.0  0.0\n",
      "2  1.0  1.0  1.0\n"
     ]
    }
   ],
   "source": [
    "\n",
    "print(\"Input data: \\n\",df1 ,\"\\nStandardization result by columns: \\n\", scaling.standardize(df1, margin=0))\n"
   ]
  },
  {
   "cell_type": "code",
   "execution_count": 12,
   "metadata": {},
   "outputs": [
    {
     "name": "stdout",
     "output_type": "stream",
     "text": [
      "Input data: \n",
      "    V1  V2  V3\n",
      "0   1   3   5\n",
      "1   2   4   6\n",
      "2   3   5   7 \n",
      "Standardization result by rows: \n",
      "     V1   V2   V3\n",
      "0 -1.0  0.0  1.0\n",
      "1 -1.0  0.0  1.0\n",
      "2 -1.0  0.0  1.0\n"
     ]
    }
   ],
   "source": [
    "print(\"Input data: \\n\",df1 ,\"\\nStandardization result by rows: \\n\", scaling.standardize(df1, margin=1))\n"
   ]
  },
  {
   "cell_type": "code",
   "execution_count": 13,
   "metadata": {},
   "outputs": [
    {
     "name": "stdout",
     "output_type": "stream",
     "text": [
      "Input data: \n",
      "    V1  V2   V3\n",
      "0  10   1    9\n",
      "1   2  20    1\n",
      "2   5  15    4\n",
      "3   2   2   20\n",
      "4   3  31  300\n",
      "5   5  52    5\n",
      "6   7   7   72\n",
      "7   1  10   11 \n",
      "Standardization result by columns: \n",
      "          V1        V2        V3\n",
      "0  1.862113 -0.946455 -0.426760\n",
      "1 -0.786226  0.160169 -0.504797\n",
      "2  0.206901 -0.131048 -0.475533\n",
      "3 -0.786226 -0.888212 -0.319461\n",
      "4 -0.455183  0.800847  2.411806\n",
      "5  0.206901  2.023958 -0.465778\n",
      "6  0.868986 -0.596995  0.187775\n",
      "7 -1.117268 -0.422265 -0.407251\n"
     ]
    }
   ],
   "source": [
    "\n",
    "print(\"Input data: \\n\", df2,\"\\nStandardization result by columns: \\n\", scaling.standardize(df2, margin=0))\n"
   ]
  },
  {
   "cell_type": "code",
   "execution_count": 14,
   "metadata": {},
   "outputs": [
    {
     "name": "stdout",
     "output_type": "stream",
     "text": [
      "Input data: \n",
      "    V1  V2   V3\n",
      "0  10   1    9\n",
      "1   2  20    1\n",
      "2   5  15    4\n",
      "3   2   2   20\n",
      "4   3  31  300\n",
      "5   5  52    5\n",
      "6   7   7   72\n",
      "7   1  10   11 \n",
      "Standardization result by rows: \n",
      "          V1        V2        V3\n",
      "0  0.675737 -1.148754  0.473016\n",
      "1 -0.529958  1.153437 -0.623480\n",
      "2 -0.493197  1.150793 -0.657596\n",
      "3 -0.577350 -0.577350  1.154701\n",
      "4 -0.660614 -0.489871  1.150485\n",
      "5 -0.577350  1.154701 -0.577350\n",
      "6 -0.577350 -0.577350  1.154701\n",
      "7 -1.149932  0.484182  0.665750\n"
     ]
    }
   ],
   "source": [
    "print(\"Input data: \\n\", df2,\"\\nStandardization result by rows: \\n\", scaling.standardize(df2, margin=1))\n"
   ]
  },
  {
   "cell_type": "markdown",
   "metadata": {},
   "source": [
    "### Test 2: Normalization"
   ]
  },
  {
   "cell_type": "code",
   "execution_count": 15,
   "metadata": {},
   "outputs": [
    {
     "name": "stdout",
     "output_type": "stream",
     "text": [
      "Input data: \n",
      " [[1 2]\n",
      " [3 4]] \n",
      "Normalized result by columns: \n",
      "      0    1\n",
      "0  0.0  0.0\n",
      "1  1.0  1.0\n"
     ]
    }
   ],
   "source": [
    "print(\"Input data: \\n\", v ,\"\\nNormalized result by columns: \\n\", scaling.normalize(v, margin=0))\n"
   ]
  },
  {
   "cell_type": "code",
   "execution_count": 16,
   "metadata": {},
   "outputs": [
    {
     "name": "stdout",
     "output_type": "stream",
     "text": [
      "Input data: \n",
      " [[1 2]\n",
      " [3 4]] \n",
      "Normalized result by rows: \n",
      "      0    1\n",
      "0  0.0  1.0\n",
      "1  0.0  1.0\n"
     ]
    }
   ],
   "source": [
    "print(\"Input data: \\n\", v ,\"\\nNormalized result by rows: \\n\", scaling.normalize(v, margin=1))\n"
   ]
  },
  {
   "cell_type": "code",
   "execution_count": 17,
   "metadata": {},
   "outputs": [
    {
     "name": "stdout",
     "output_type": "stream",
     "text": [
      "Input data: \n",
      " [[1, 2], [3, 4]] \n",
      "Normalized result by columns: \n",
      "      0    1\n",
      "0  0.0  0.0\n",
      "1  1.0  1.0\n"
     ]
    }
   ],
   "source": [
    "\n",
    "print(\"Input data: \\n\", l ,\"\\nNormalized result by columns: \\n\", scaling.normalize(l, margin=0))\n"
   ]
  },
  {
   "cell_type": "code",
   "execution_count": 18,
   "metadata": {},
   "outputs": [
    {
     "name": "stdout",
     "output_type": "stream",
     "text": [
      "Input data: \n",
      " [[1, 2], [3, 4]] \n",
      "Normalized result by rows: \n",
      "      0    1\n",
      "0  0.0  1.0\n",
      "1  0.0  1.0\n"
     ]
    }
   ],
   "source": [
    "print(\"Input data: \\n\", l ,\"\\nNormalized result by rows: \\n\", scaling.normalize(l, margin=1))\n"
   ]
  },
  {
   "cell_type": "code",
   "execution_count": 19,
   "metadata": {},
   "outputs": [
    {
     "name": "stdout",
     "output_type": "stream",
     "text": [
      "Input data: \n",
      " [1, 2, 3, 4] \n",
      "Normalized result by columns: \n",
      "           0\n",
      "0  0.000000\n",
      "1  0.333333\n",
      "2  0.666667\n",
      "3  1.000000\n"
     ]
    }
   ],
   "source": [
    "\n",
    "print(\"Input data: \\n\", l2 ,\"\\nNormalized result by columns: \\n\", scaling.normalize(l2, margin=0))\n"
   ]
  },
  {
   "cell_type": "code",
   "execution_count": 20,
   "metadata": {},
   "outputs": [
    {
     "name": "stdout",
     "output_type": "stream",
     "text": [
      "Input data: \n",
      " [1, 2, 3, 4] \n",
      "Normalized result by rows: \n",
      " 0    0\n",
      "1    0\n",
      "2    0\n",
      "3    0\n",
      "dtype: int64\n"
     ]
    }
   ],
   "source": [
    "print(\"Input data: \\n\", l2 ,\"\\nNormalized result by rows: \\n\", scaling.normalize(l2, margin=1))\n"
   ]
  },
  {
   "cell_type": "code",
   "execution_count": 21,
   "metadata": {},
   "outputs": [
    {
     "name": "stdout",
     "output_type": "stream",
     "text": [
      "Input data: \n",
      "    V1  V2  V3\n",
      "0   1   3   5\n",
      "1   2   4   6\n",
      "2   3   5   7 \n",
      "Normalized result by columns: \n",
      "     V1   V2   V3\n",
      "0  0.0  0.0  0.0\n",
      "1  0.5  0.5  0.5\n",
      "2  1.0  1.0  1.0\n",
      "Input data: \n",
      "    V1  V2  V3\n",
      "0   1   3   5\n",
      "1   2   4   6\n",
      "2   3   5   7 \n",
      "Normalized result by rows: \n",
      "     V1   V2   V3\n",
      "0  0.0  0.5  1.0\n",
      "1  0.0  0.5  1.0\n",
      "2  0.0  0.5  1.0\n"
     ]
    }
   ],
   "source": [
    "\n",
    "print(\"Input data: \\n\", df1 ,\"\\nNormalized result by columns: \\n\", scaling.normalize(df1, margin=0))\n",
    "print(\"Input data: \\n\", df1 ,\"\\nNormalized result by rows: \\n\", scaling.normalize(df1, margin=1))\n"
   ]
  },
  {
   "cell_type": "code",
   "execution_count": 22,
   "metadata": {},
   "outputs": [
    {
     "name": "stdout",
     "output_type": "stream",
     "text": [
      "Input data: \n",
      "    V1  V2   V3\n",
      "0  10   1    9\n",
      "1   2  20    1\n",
      "2   5  15    4\n",
      "3   2   2   20\n",
      "4   3  31  300\n",
      "5   5  52    5\n",
      "6   7   7   72\n",
      "7   1  10   11 \n",
      "Normalized result by columns: \n",
      "          V1        V2        V3\n",
      "0  1.000000  0.000000  0.026756\n",
      "1  0.111111  0.372549  0.000000\n",
      "2  0.444444  0.274510  0.010033\n",
      "3  0.111111  0.019608  0.063545\n",
      "4  0.222222  0.588235  1.000000\n",
      "5  0.444444  1.000000  0.013378\n",
      "6  0.666667  0.117647  0.237458\n",
      "7  0.000000  0.176471  0.033445\n"
     ]
    }
   ],
   "source": [
    "\n",
    "print(\"Input data: \\n\", df2 ,\"\\nNormalized result by columns: \\n\", scaling.normalize(df2, margin=0))\n"
   ]
  },
  {
   "cell_type": "code",
   "execution_count": 23,
   "metadata": {},
   "outputs": [
    {
     "name": "stdout",
     "output_type": "stream",
     "text": [
      "Input data: \n",
      "    V1  V2   V3\n",
      "0  10   1    9\n",
      "1   2  20    1\n",
      "2   5  15    4\n",
      "3   2   2   20\n",
      "4   3  31  300\n",
      "5   5  52    5\n",
      "6   7   7   72\n",
      "7   1  10   11 \n",
      "Normalized result by rows: \n",
      "          V1        V2        V3\n",
      "0  1.000000  0.000000  0.888889\n",
      "1  0.052632  1.000000  0.000000\n",
      "2  0.090909  1.000000  0.000000\n",
      "3  0.000000  0.000000  1.000000\n",
      "4  0.000000  0.094276  1.000000\n",
      "5  0.000000  1.000000  0.000000\n",
      "6  0.000000  0.000000  1.000000\n",
      "7  0.000000  0.900000  1.000000\n"
     ]
    }
   ],
   "source": [
    "print(\"Input data: \\n\", df2 ,\"\\nNormalized result by rows: \\n\", scaling.normalize(df2, margin=1))\n",
    "\n",
    "\n"
   ]
  }
 ],
 "metadata": {
  "interpreter": {
   "hash": "916dbcbb3f70747c44a77c7bcd40155683ae19c65e1c03b4aa3499c5328201f1"
  },
  "kernelspec": {
   "display_name": "Python 3.8.10 64-bit",
   "language": "python",
   "name": "python3"
  },
  "language_info": {
   "codemirror_mode": {
    "name": "ipython",
    "version": 3
   },
   "file_extension": ".py",
   "mimetype": "text/x-python",
   "name": "python",
   "nbconvert_exporter": "python",
   "pygments_lexer": "ipython3",
   "version": "3.8.10"
  },
  "orig_nbformat": 4
 },
 "nbformat": 4,
 "nbformat_minor": 2
}
