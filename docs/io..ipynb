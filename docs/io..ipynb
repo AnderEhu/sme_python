{
 "cells": [
  {
   "cell_type": "markdown",
   "metadata": {},
   "source": [
    "# MODULE io.py"
   ]
  },
  {
   "cell_type": "markdown",
   "metadata": {},
   "source": [
    "## Imports"
   ]
  },
  {
   "cell_type": "code",
   "execution_count": 1,
   "metadata": {},
   "outputs": [],
   "source": [
    "from sme import io\n",
    "import pandas as pd"
   ]
  },
  {
   "cell_type": "markdown",
   "metadata": {},
   "source": [
    "## Functions"
   ]
  },
  {
   "cell_type": "markdown",
   "metadata": {},
   "source": [
    "### read_df"
   ]
  },
  {
   "cell_type": "code",
   "execution_count": 2,
   "metadata": {},
   "outputs": [
    {
     "name": "stdout",
     "output_type": "stream",
     "text": [
      "Help on function read_df in module sme.io:\n",
      "\n",
      "read_df(file_path, sep=';', max_n_factor=3, header=False, row_names=None, col_names=None, n_rows=-1, transpose=False)\n",
      "    Description:\n",
      "        Read a csv file\n",
      "    \n",
      "    Parameters:\n",
      "        file.path (string):  Name of input file\n",
      "        sep (string):  Field separator. Default ;\n",
      "        max.n.factor (int):  maximum number of column characters to be a factor. \n",
      "        header (logical):  a logical value indicating whether the file \n",
      "                            contains the names of the variables as its first line.\n",
      "        row.names (list of strings):  a vector of row names.\n",
      "        col.names (list of strings):  a vector of col names.\n",
      "        n.rows integer (integer): the maximum number of rows to read in.\n",
      "                                    In case of Header = TRUE, it does not count for the number of read lines.\n",
      "        transpose (logical):  If TRUE, transpose the result. \n",
      "    \n",
      "    Returns:\n",
      "        A data frame containing a representation of the data in the file.\n",
      "\n"
     ]
    }
   ],
   "source": [
    "help(io.read_df)"
   ]
  },
  {
   "cell_type": "markdown",
   "metadata": {},
   "source": [
    "### write_df"
   ]
  },
  {
   "cell_type": "code",
   "execution_count": 3,
   "metadata": {},
   "outputs": [
    {
     "name": "stdout",
     "output_type": "stream",
     "text": [
      "Help on function write_df in module sme.io:\n",
      "\n",
      "write_df(df, file_path, sep=';', append=False, header=False)\n",
      "    Description:\n",
      "        Write a csv file\n",
      "    \n",
      "    Parameters:\n",
      "        df (dataframe, list, matrix):  object to be written.\n",
      "        file.path (string): Name of output file.\n",
      "        sep (string): Field separator string. Values within each row of x are separated by this string. \n",
      "        append (logical): If TRUE, the output is appended to the file. \n",
      "                            If FALSE, any existing file of the name is destroyed.\n",
      "        header (logical): if TRUE, name of the columns are written in the first line.\n",
      "    \n",
      "    Returns:\n",
      "        True if it has worked correctly and if there has been an error.\n",
      "\n"
     ]
    }
   ],
   "source": [
    "help(io.write_df)"
   ]
  },
  {
   "cell_type": "markdown",
   "metadata": {},
   "source": [
    "## Tests"
   ]
  },
  {
   "cell_type": "markdown",
   "metadata": {},
   "source": [
    "### Test 1"
   ]
  },
  {
   "cell_type": "code",
   "execution_count": 4,
   "metadata": {},
   "outputs": [],
   "source": [
    "bench1wr = io.write_df([[1,2,3,4,5], [4,5,6,7,8], [9,10,11,12,13]],\"bench1.txt\")"
   ]
  },
  {
   "cell_type": "code",
   "execution_count": 5,
   "metadata": {},
   "outputs": [
    {
     "name": "stdout",
     "output_type": "stream",
     "text": [
      "bench1.txt \n",
      "    0   1   2   3   4\n",
      "0  1   2   3   4   5\n",
      "1  4   5   6   7   8\n",
      "2  9  10  11  12  13\n"
     ]
    }
   ],
   "source": [
    "\n",
    "bench1rd = io.read_df(\"bench1.txt\")\n",
    "print(\"bench1.txt \\n\", bench1rd)"
   ]
  },
  {
   "cell_type": "code",
   "execution_count": 6,
   "metadata": {},
   "outputs": [
    {
     "name": "stdout",
     "output_type": "stream",
     "text": [
      "0    int64\n",
      "1    int64\n",
      "2    int64\n",
      "3    int64\n",
      "4    int64\n",
      "dtype: object\n"
     ]
    }
   ],
   "source": [
    "print(bench1rd.dtypes)"
   ]
  },
  {
   "cell_type": "markdown",
   "metadata": {},
   "source": [
    "### Test 2"
   ]
  },
  {
   "cell_type": "code",
   "execution_count": 7,
   "metadata": {},
   "outputs": [],
   "source": [
    "bench2wr = io.write_df(pd.array([['a','b','c','d','e'], ['1','2','3','4','5'], ['6','7','8','9','10']]),\"bench2.txt\", sep = \",\", header=False)"
   ]
  },
  {
   "cell_type": "code",
   "execution_count": 8,
   "metadata": {},
   "outputs": [
    {
     "name": "stdout",
     "output_type": "stream",
     "text": [
      "bench2.txt \n",
      "    a  b  c  d   e\n",
      "0  1  2  3  4   5\n",
      "1  6  7  8  9  10\n"
     ]
    }
   ],
   "source": [
    "bench2rd = io.read_df(\"bench2.txt\", header = True, sep = \",\")\n",
    "print(\"bench2.txt \\n\", bench2rd)"
   ]
  },
  {
   "cell_type": "code",
   "execution_count": 9,
   "metadata": {},
   "outputs": [
    {
     "name": "stdout",
     "output_type": "stream",
     "text": [
      "a    int64\n",
      "b    int64\n",
      "c    int64\n",
      "d    int64\n",
      "e    int64\n",
      "dtype: object\n"
     ]
    }
   ],
   "source": [
    "print(bench2rd.dtypes)"
   ]
  },
  {
   "cell_type": "markdown",
   "metadata": {},
   "source": [
    "### Test 3"
   ]
  },
  {
   "cell_type": "code",
   "execution_count": 10,
   "metadata": {},
   "outputs": [],
   "source": [
    "bench3wr = io.write_df(pd.DataFrame([[1,'2.1','3','4','a'], [2,'2.3','3','4','b'], [3,'2','3','4','c'], [4,'2.8','3','4','d']], columns= ['COL1','COL2','COL3','COL4','COL5']),\"bench3.txt\", header=True)"
   ]
  },
  {
   "cell_type": "code",
   "execution_count": 11,
   "metadata": {},
   "outputs": [
    {
     "name": "stdout",
     "output_type": "stream",
     "text": [
      "bench3.txt \n",
      "       COL1  COL2  COL3  COL4 COL5\n",
      "ROW1     1   2.1     3     4    a\n",
      "ROW2     2   2.3     3     4    b\n"
     ]
    }
   ],
   "source": [
    "bench31rd = io.read_df(\"bench3.txt\", header = True, row_names=[\"ROW1\", \"ROW2\"], n_rows=2)\n",
    "print(\"bench3.txt \\n\", bench31rd)"
   ]
  },
  {
   "cell_type": "code",
   "execution_count": 12,
   "metadata": {},
   "outputs": [
    {
     "name": "stdout",
     "output_type": "stream",
     "text": [
      "COL1       int64\n",
      "COL2     float64\n",
      "COL3       int64\n",
      "COL4       int64\n",
      "COL5    category\n",
      "dtype: object\n"
     ]
    }
   ],
   "source": [
    "print(bench31rd.dtypes)"
   ]
  },
  {
   "cell_type": "code",
   "execution_count": 13,
   "metadata": {},
   "outputs": [
    {
     "name": "stdout",
     "output_type": "stream",
     "text": [
      "COL1      int64\n",
      "COL2    float64\n",
      "COL3      int64\n",
      "COL4      int64\n",
      "COL5     string\n",
      "dtype: object\n"
     ]
    }
   ],
   "source": [
    "bench32rd = io.read_df(\"bench3.txt\", header = True, row_names=[\"ROW1\", \"ROW2\", \"ROW3\"], n_rows=3, max_n_factor=2)\n",
    "print(bench32rd.dtypes)"
   ]
  },
  {
   "cell_type": "code",
   "execution_count": 14,
   "metadata": {},
   "outputs": [
    {
     "name": "stdout",
     "output_type": "stream",
     "text": [
      "bench3.txt \n",
      "      ROW1 ROW2 ROW3\n",
      "COL1    1    2    3\n",
      "COL2  2.1  2.3    2\n",
      "COL3    3    3    3\n",
      "COL4    4    4    4\n",
      "COL5    a    b    c\n"
     ]
    }
   ],
   "source": [
    "bench33rd = io.read_df(\"bench3.txt\", header = True, row_names=[\"ROW1\", \"ROW2\", \"ROW3\"], n_rows=3, transpose=True)\n",
    "print(\"bench3.txt \\n\", bench33rd)"
   ]
  },
  {
   "cell_type": "code",
   "execution_count": 15,
   "metadata": {},
   "outputs": [
    {
     "name": "stdout",
     "output_type": "stream",
     "text": [
      "ROW1    string\n",
      "ROW2    string\n",
      "ROW3    string\n",
      "dtype: object\n"
     ]
    }
   ],
   "source": [
    "print(bench33rd.dtypes)"
   ]
  }
 ],
 "metadata": {
  "interpreter": {
   "hash": "916dbcbb3f70747c44a77c7bcd40155683ae19c65e1c03b4aa3499c5328201f1"
  },
  "kernelspec": {
   "display_name": "Python 3.8.10 64-bit",
   "language": "python",
   "name": "python3"
  },
  "language_info": {
   "codemirror_mode": {
    "name": "ipython",
    "version": 3
   },
   "file_extension": ".py",
   "mimetype": "text/x-python",
   "name": "python",
   "nbconvert_exporter": "python",
   "pygments_lexer": "ipython3",
   "version": "3.8.10"
  },
  "orig_nbformat": 4
 },
 "nbformat": 4,
 "nbformat_minor": 2
}
